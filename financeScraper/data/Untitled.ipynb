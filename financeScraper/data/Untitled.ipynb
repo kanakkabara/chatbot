{
 "cells": [
  {
   "cell_type": "code",
   "execution_count": 1,
   "metadata": {},
   "outputs": [],
   "source": [
    "from newspaper import Article"
   ]
  },
  {
   "cell_type": "code",
   "execution_count": 4,
   "metadata": {},
   "outputs": [],
   "source": [
    "url = 'https://www.investopedia.com/news/why-broadcom-will-make-10-every-iphone-jpm/?utm_campaign=quote-bloomberg&utm_source=bloomb'\n",
    "article = Article(url)"
   ]
  },
  {
   "cell_type": "code",
   "execution_count": 5,
   "metadata": {},
   "outputs": [],
   "source": [
    "article.download()"
   ]
  },
  {
   "cell_type": "code",
   "execution_count": 6,
   "metadata": {},
   "outputs": [],
   "source": [
    "article.parse()"
   ]
  },
  {
   "cell_type": "code",
   "execution_count": 7,
   "metadata": {},
   "outputs": [
    {
     "data": {
      "text/plain": [
       "['Shoshanna Delventhal']"
      ]
     },
     "execution_count": 7,
     "metadata": {},
     "output_type": "execute_result"
    }
   ],
   "source": [
    "article.authors"
   ]
  },
  {
   "cell_type": "code",
   "execution_count": 8,
   "metadata": {},
   "outputs": [
    {
     "data": {
      "text/plain": [
       "'As Broadcom Ltd. (AVGO) prepares to post its most recent quarterly earnings report Thursday, one team of bulls on the Street sees more upside in shares of the San Jose, California-based semiconductor manufacturer, thanks to its strong relationship with Apple Inc. (AAPL). (See also: Broadcom Stock Is Cheap, Poised to Pop on Earnings.)\\n\\nIn a note to clients Tuesday, J.P. Morgan wrote that the chipmaker is expected to handle all of Apple’s need for a class of chip in its new iPhone, translating to revenue of $10 per smartphone. As Broadcom maintains its 100% share of non-radio frequency chips in the upcoming generation of Apple\\'s phones, slated for release this year, it will be the sole enabler of wireless charging, Wi-Fi, Bluetooth and GPS capabilities.\\n\\nNon-Radio Frequency Chips Boost Broadcom Top Line\\n\\n\"We see 8 percent to 10 percent increase in non-radio frequency dollar content in the 2018 iPhone models—upgraded wireless charging chip, increased GPS/wireless charging attach rates are the big drivers,\" wrote J.P. Morgan analyst Harlan Sur. He indicated that the partnership with the Cupertino, California-based tech titan should drive top line growth at Broadcom, contributing to improved profitability and free cash flow. Sur indicated that the market \"often forgets\" about Broadcom\\'s dominance in wireless connectivity and its \"close relationship with Apple.\"\\n\\nJ.P. Morgan expects the chipmaker\\'s second-quarter earnings per share (EPS) results to come in on Thursday at $4.77, in line with the consensus estimate. In Q3, the analyst\\'s forecast for EPS of $4.63 is above the Street\\'s estimates, according to FactSet.\\n\\nA $337 Price Target\\n\\n\"Next year, we anticipate further content gains on the 2019 models as Apple will move to Broadcom\\'s next generation\" of Bluetooth and Wi-Fi combo chips, added Sur. He expects AVGO stock to gain approximately 29% from Wednesday to reach $337 over 12 months. Trading up about 1% at $262.07, AVGO reflects a 2.3% increase year-to-date (YTD) and a 3.2% gain over 12 months, compared to the S&P 500\\'s 3.2% return and 13.6% growth over the same respective periods.\\n\\nIn March, Broadcom\\'s bid to buy Qualcomm Inc. (QCOM), a global supplier of digital communications products, was denied by a U.S. Treasury committee on national security grounds. (See also: 3 Stocks for Whether Economy Grows or Slows: Barron’s.)'"
      ]
     },
     "execution_count": 8,
     "metadata": {},
     "output_type": "execute_result"
    }
   ],
   "source": [
    "article.text"
   ]
  },
  {
   "cell_type": "code",
   "execution_count": null,
   "metadata": {},
   "outputs": [],
   "source": []
  }
 ],
 "metadata": {
  "kernelspec": {
   "display_name": "financeSpiders",
   "language": "python",
   "name": "financespiders"
  },
  "language_info": {
   "codemirror_mode": {
    "name": "ipython",
    "version": 3
   },
   "file_extension": ".py",
   "mimetype": "text/x-python",
   "name": "python",
   "nbconvert_exporter": "python",
   "pygments_lexer": "ipython3",
   "version": "3.5.2"
  }
 },
 "nbformat": 4,
 "nbformat_minor": 2
}
